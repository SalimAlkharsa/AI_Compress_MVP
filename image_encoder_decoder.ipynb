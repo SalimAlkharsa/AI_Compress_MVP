{
 "cells": [
  {
   "attachments": {},
   "cell_type": "markdown",
   "metadata": {},
   "source": [
    "I decided to make this notebook for my learning reference after I learned that image NN models often use encoders and decoders in order to minimize image sizes thus reducing better acquiring data for the purpose of model training.\n",
    "\n",
    "Keeping in mind my goal is to see if compression is possible with ML I think messing around more with this to learn about this mechanisim is a good idea."
   ]
  },
  {
   "cell_type": "code",
   "execution_count": 25,
   "metadata": {},
   "outputs": [],
   "source": [
    "#Imports\n",
    "import tensorflow as tf\n",
    "import numpy as np\n",
    "import matplotlib.pyplot as plt"
   ]
  },
  {
   "cell_type": "code",
   "execution_count": 26,
   "metadata": {},
   "outputs": [],
   "source": [
    "# Load the MNIST dataset\n",
    "(x_train, y_train), (x_test, y_test) = tf.keras.datasets.mnist.load_data()\n",
    "\n",
    "# Normalize the pixel values to be between 0 and 1\n",
    "x_train = x_train.astype('float32') / 255.\n",
    "x_test = x_test.astype('float32') / 255."
   ]
  },
  {
   "cell_type": "code",
   "execution_count": 27,
   "metadata": {},
   "outputs": [],
   "source": [
    "# Reshape the images to be flat arrays\n",
    "x_train = x_train.reshape((len(x_train), np.prod(x_train.shape[1:])))\n",
    "x_test = x_test.reshape((len(x_test), np.prod(x_test.shape[1:])))"
   ]
  },
  {
   "cell_type": "code",
   "execution_count": 28,
   "metadata": {},
   "outputs": [],
   "source": [
    "# Build the autoencoder\n",
    "input_dim = x_train.shape[1]\n",
    "encoding_dim = 32\n",
    "\n",
    "input_layer = tf.keras.layers.Input(shape=(input_dim,))\n",
    "encoder = tf.keras.layers.Dense(encoding_dim, activation='relu')(input_layer)\n",
    "encoder = tf.keras.layers.Dense(encoding_dim//2, activation='relu')(encoder)\n",
    "encoder = tf.keras.layers.Dense(encoding_dim//4, activation='relu')(encoder)\n",
    "\n",
    "decoder = tf.keras.layers.Dense(encoding_dim//2, activation='relu')(encoder)\n",
    "decoder = tf.keras.layers.Dense(encoding_dim, activation='relu')(decoder)\n",
    "decoder = tf.keras.layers.Dense(input_dim, activation='sigmoid')(decoder)\n",
    "\n",
    "autoencoder = tf.keras.models.Model(inputs=input_layer, outputs=decoder)\n",
    "\n",
    "# Compile the autoencoder\n",
    "autoencoder.compile(optimizer='adam', loss='binary_crossentropy')"
   ]
  },
  {
   "attachments": {},
   "cell_type": "markdown",
   "metadata": {},
   "source": [
    "The mechanism of this auto-encoder takes a 784 (28x28) input and then it reduces it to 32 (16x16) and it keeps cutting it to 8 (4x4) then the decoder part has it go to 16 neurons which then send info to 32 and finally back to 784. So if someone wanted to make this work far better, they would add more layers to make the change from 784 to 32 less steep thus losing more information.\n",
    "\n",
    "Adding more layers does increase the risk of overfitting."
   ]
  },
  {
   "cell_type": "code",
   "execution_count": 29,
   "metadata": {},
   "outputs": [
    {
     "name": "stdout",
     "output_type": "stream",
     "text": [
      "Epoch 1/50\n",
      "235/235 [==============================] - 4s 15ms/step - loss: 0.2979 - val_loss: 0.2248\n",
      "Epoch 2/50\n",
      "235/235 [==============================] - 3s 13ms/step - loss: 0.2077 - val_loss: 0.1919\n",
      "Epoch 3/50\n",
      "235/235 [==============================] - 3s 13ms/step - loss: 0.1833 - val_loss: 0.1742\n",
      "Epoch 4/50\n",
      "235/235 [==============================] - 3s 13ms/step - loss: 0.1724 - val_loss: 0.1687\n",
      "Epoch 5/50\n",
      "235/235 [==============================] - 3s 13ms/step - loss: 0.1686 - val_loss: 0.1659\n",
      "Epoch 6/50\n",
      "235/235 [==============================] - 3s 13ms/step - loss: 0.1661 - val_loss: 0.1636\n",
      "Epoch 7/50\n",
      "235/235 [==============================] - 3s 13ms/step - loss: 0.1640 - val_loss: 0.1616\n",
      "Epoch 8/50\n",
      "235/235 [==============================] - 3s 13ms/step - loss: 0.1619 - val_loss: 0.1596\n",
      "Epoch 9/50\n",
      "235/235 [==============================] - 3s 13ms/step - loss: 0.1597 - val_loss: 0.1575\n",
      "Epoch 10/50\n",
      "235/235 [==============================] - 3s 13ms/step - loss: 0.1579 - val_loss: 0.1560\n",
      "Epoch 11/50\n",
      "235/235 [==============================] - 3s 13ms/step - loss: 0.1566 - val_loss: 0.1549\n",
      "Epoch 12/50\n",
      "235/235 [==============================] - 3s 13ms/step - loss: 0.1554 - val_loss: 0.1538\n",
      "Epoch 13/50\n",
      "235/235 [==============================] - 3s 13ms/step - loss: 0.1543 - val_loss: 0.1530\n",
      "Epoch 14/50\n",
      "235/235 [==============================] - 3s 13ms/step - loss: 0.1535 - val_loss: 0.1522\n",
      "Epoch 15/50\n",
      "235/235 [==============================] - 3s 13ms/step - loss: 0.1527 - val_loss: 0.1515\n",
      "Epoch 16/50\n",
      "235/235 [==============================] - 3s 13ms/step - loss: 0.1521 - val_loss: 0.1509\n",
      "Epoch 17/50\n",
      "235/235 [==============================] - 3s 13ms/step - loss: 0.1517 - val_loss: 0.1506\n",
      "Epoch 18/50\n",
      "235/235 [==============================] - 3s 13ms/step - loss: 0.1512 - val_loss: 0.1499\n",
      "Epoch 19/50\n",
      "235/235 [==============================] - 3s 13ms/step - loss: 0.1508 - val_loss: 0.1496\n",
      "Epoch 20/50\n",
      "235/235 [==============================] - 3s 13ms/step - loss: 0.1504 - val_loss: 0.1494\n",
      "Epoch 21/50\n",
      "235/235 [==============================] - 3s 13ms/step - loss: 0.1501 - val_loss: 0.1489\n",
      "Epoch 22/50\n",
      "235/235 [==============================] - 3s 14ms/step - loss: 0.1497 - val_loss: 0.1484\n",
      "Epoch 23/50\n",
      "235/235 [==============================] - 3s 13ms/step - loss: 0.1493 - val_loss: 0.1482\n",
      "Epoch 24/50\n",
      "235/235 [==============================] - 3s 13ms/step - loss: 0.1490 - val_loss: 0.1481\n",
      "Epoch 25/50\n",
      "235/235 [==============================] - 3s 13ms/step - loss: 0.1487 - val_loss: 0.1476\n",
      "Epoch 26/50\n",
      "235/235 [==============================] - 3s 13ms/step - loss: 0.1485 - val_loss: 0.1473\n",
      "Epoch 27/50\n",
      "235/235 [==============================] - 3s 13ms/step - loss: 0.1482 - val_loss: 0.1472\n",
      "Epoch 28/50\n",
      "235/235 [==============================] - 3s 13ms/step - loss: 0.1480 - val_loss: 0.1470\n",
      "Epoch 29/50\n",
      "235/235 [==============================] - 3s 13ms/step - loss: 0.1477 - val_loss: 0.1469\n",
      "Epoch 30/50\n",
      "235/235 [==============================] - 3s 13ms/step - loss: 0.1475 - val_loss: 0.1466\n",
      "Epoch 31/50\n",
      "235/235 [==============================] - 3s 13ms/step - loss: 0.1473 - val_loss: 0.1463\n",
      "Epoch 32/50\n",
      "235/235 [==============================] - 3s 13ms/step - loss: 0.1470 - val_loss: 0.1461\n",
      "Epoch 33/50\n",
      "235/235 [==============================] - 3s 13ms/step - loss: 0.1468 - val_loss: 0.1461\n",
      "Epoch 34/50\n",
      "235/235 [==============================] - 3s 13ms/step - loss: 0.1466 - val_loss: 0.1456\n",
      "Epoch 35/50\n",
      "235/235 [==============================] - 3s 14ms/step - loss: 0.1464 - val_loss: 0.1456\n",
      "Epoch 36/50\n",
      "235/235 [==============================] - 3s 13ms/step - loss: 0.1462 - val_loss: 0.1453\n",
      "Epoch 37/50\n",
      "235/235 [==============================] - 3s 13ms/step - loss: 0.1460 - val_loss: 0.1452\n",
      "Epoch 38/50\n",
      "235/235 [==============================] - 3s 13ms/step - loss: 0.1459 - val_loss: 0.1450\n",
      "Epoch 39/50\n",
      "235/235 [==============================] - 3s 13ms/step - loss: 0.1457 - val_loss: 0.1448\n",
      "Epoch 40/50\n",
      "235/235 [==============================] - 3s 13ms/step - loss: 0.1455 - val_loss: 0.1448\n",
      "Epoch 41/50\n",
      "235/235 [==============================] - 3s 13ms/step - loss: 0.1454 - val_loss: 0.1446\n",
      "Epoch 42/50\n",
      "235/235 [==============================] - 3s 12ms/step - loss: 0.1452 - val_loss: 0.1445\n",
      "Epoch 43/50\n",
      "235/235 [==============================] - 3s 12ms/step - loss: 0.1451 - val_loss: 0.1443\n",
      "Epoch 44/50\n",
      "235/235 [==============================] - 3s 12ms/step - loss: 0.1450 - val_loss: 0.1442\n",
      "Epoch 45/50\n",
      "235/235 [==============================] - 3s 12ms/step - loss: 0.1448 - val_loss: 0.1439\n",
      "Epoch 46/50\n",
      "235/235 [==============================] - 3s 13ms/step - loss: 0.1446 - val_loss: 0.1438\n",
      "Epoch 47/50\n",
      "235/235 [==============================] - 3s 13ms/step - loss: 0.1444 - val_loss: 0.1438\n",
      "Epoch 48/50\n",
      "235/235 [==============================] - 3s 13ms/step - loss: 0.1443 - val_loss: 0.1437\n",
      "Epoch 49/50\n",
      "235/235 [==============================] - 3s 13ms/step - loss: 0.1441 - val_loss: 0.1435\n",
      "Epoch 50/50\n",
      "235/235 [==============================] - 3s 13ms/step - loss: 0.1440 - val_loss: 0.1432\n"
     ]
    }
   ],
   "source": [
    "# Train the autoencoder\n",
    "autoencoder.fit(x_train, x_train, epochs=50, batch_size=256, shuffle=True, validation_data=(x_test, x_test))\n",
    "#The above line is commented out because it takes a long time to run. The model is already trained and saved in the next line.\n",
    "autoencoder.save('autoencoder_model_img.h5')\n",
    "autoencoder = tf.keras.models.load_model('autoencoder_model_img.h5')"
   ]
  },
  {
   "cell_type": "code",
   "execution_count": 30,
   "metadata": {},
   "outputs": [
    {
     "name": "stdout",
     "output_type": "stream",
     "text": [
      "313/313 [==============================] - 1s 3ms/step\n",
      "313/313 [==============================] - 1s 3ms/step\n"
     ]
    }
   ],
   "source": [
    "# Test the autoencoder\n",
    "encoded_imgs = autoencoder.predict(x_test)\n",
    "decoded_imgs = autoencoder.predict(encoded_imgs)"
   ]
  },
  {
   "cell_type": "code",
   "execution_count": 31,
   "metadata": {},
   "outputs": [
    {
     "data": {
      "image/png": "[encoded data removed]",
      "text/plain": [
       "<Figure size 2000x400 with 30 Axes>"
      ]
     },
     "metadata": {},
     "output_type": "display_data"
    }
   ],
   "source": [
    "# Visualize original, compressed, and reconstructed images\n",
    "n = 10\n",
    "plt.figure(figsize=(20, 4))\n",
    "for i in range(n):\n",
    "    # Original image\n",
    "    ax = plt.subplot(3, n, i + 1)\n",
    "    plt.imshow(x_test[i].reshape(28, 28))\n",
    "    plt.gray()\n",
    "    ax.get_xaxis().set_visible(False)\n",
    "    ax.get_yaxis().set_visible(False)\n",
    "\n",
    "    # Compressed image\n",
    "    ax = plt.subplot(3, n, i + 1 + n)\n",
    "    plt.imshow(encoded_imgs[i].reshape(28, 28))\n",
    "    plt.gray()\n",
    "    ax.get_xaxis().set_visible(False)\n",
    "    ax.get_yaxis().set_visible(False)\n",
    "\n",
    "    # Reconstructed image\n",
    "    ax = plt.subplot(3, n, i + 1 + 2*n)\n",
    "    plt.imshow(decoded_imgs[i].reshape(28, 28))\n",
    "    plt.gray()\n",
    "    ax.get_xaxis().set_visible(False)\n",
    "    ax.get_yaxis().set_visible(False)\n",
    "plt.show()"
   ]
  },
  {
   "attachments": {},
   "cell_type": "markdown",
   "metadata": {},
   "source": [
    "First Row is input.\n",
    "Second Row is compressed.\n",
    "Third Row is reconstructed."
   ]
  }
 ],
 "metadata": {
  "kernelspec": {
   "display_name": "Venv",
   "language": "python",
   "name": "python3"
  },
  "language_info": {
   "codemirror_mode": {
    "name": "ipython",
    "version": 3
   },
   "file_extension": ".py",
   "mimetype": "text/x-python",
   "name": "python",
   "nbconvert_exporter": "python",
   "pygments_lexer": "ipython3",
   "version": "3.9.6"
  },
  "orig_nbformat": 4
 },
 "nbformat": 4,
 "nbformat_minor": 2
}
